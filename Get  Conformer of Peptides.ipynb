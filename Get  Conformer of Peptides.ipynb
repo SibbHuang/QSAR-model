{
 "cells": [
  {
   "cell_type": "markdown",
   "id": "1614e7ba",
   "metadata": {},
   "source": [
    "### Import Package:"
   ]
  },
  {
   "cell_type": "code",
   "execution_count": 5,
   "id": "14f5f1ae",
   "metadata": {},
   "outputs": [],
   "source": [
    "from rdkit import Chem\n",
    "from rdkit.Chem import Draw\n",
    "from rdkit.Chem import AllChem\n",
    "import pandas as pd\n",
    "import os\n",
    "import rdkit"
   ]
  },
  {
   "cell_type": "markdown",
   "id": "70aa0af8",
   "metadata": {},
   "source": [
    "### Some Functions:"
   ]
  },
  {
   "cell_type": "code",
   "execution_count": 34,
   "id": "1dcc6e2e",
   "metadata": {},
   "outputs": [],
   "source": [
    "#convert peptide to smi:\n",
    "def convert_smi(peptide):\n",
    "    peptide_smile = Chem.MolToSmiles(Chem.MolFromFASTA(peptide))\n",
    "    return peptide_smile\n",
    "\n",
    "#convert smi to mol:\n",
    "def smi2mol(smi):\n",
    "    mol = Chem.MolFromSmiles(smi)\n",
    "    m3d = Chem.AddHs(mol)\n",
    "    return m3d\n",
    "\n",
    "def ConformerGenerate(mol,peptide,numconfs=1):\n",
    "    #Conformers generated:\n",
    "    cids = AllChem.EmbedMultipleConfs(mol, numConfs=numconfs,clearConfs=False)\n",
    "\n",
    "    #Energy optimization:\n",
    "    res = AllChem.MMFFOptimizeMoleculeConfs(mol,numThreads=0,maxIters=800) \n",
    "    return mol,cids\n",
    "\n",
    "def generateMol(molname,mol,conflist):\n",
    "    w = Chem.SDWriter(molname+\".sdf\")\n",
    "    count = 0\n",
    "    for cid in conflist:\n",
    "        count += 1\n",
    "        w.write(mol, confId=cid)\n",
    "    w.close()\n",
    "    return None"
   ]
  },
  {
   "cell_type": "markdown",
   "id": "b8a7e453",
   "metadata": {},
   "source": [
    "### Import Data："
   ]
  },
  {
   "cell_type": "code",
   "execution_count": 4,
   "id": "3714f5d7",
   "metadata": {},
   "outputs": [
    {
     "data": {
      "text/html": [
       "<div>\n",
       "<style scoped>\n",
       "    .dataframe tbody tr th:only-of-type {\n",
       "        vertical-align: middle;\n",
       "    }\n",
       "\n",
       "    .dataframe tbody tr th {\n",
       "        vertical-align: top;\n",
       "    }\n",
       "\n",
       "    .dataframe thead th {\n",
       "        text-align: right;\n",
       "    }\n",
       "</style>\n",
       "<table border=\"1\" class=\"dataframe\">\n",
       "  <thead>\n",
       "    <tr style=\"text-align: right;\">\n",
       "      <th></th>\n",
       "      <th>pepname</th>\n",
       "      <th>HIA</th>\n",
       "      <th>BBB</th>\n",
       "      <th>hepatotoxicity</th>\n",
       "      <th>nephrotoxicity</th>\n",
       "      <th>score</th>\n",
       "      <th>score.1</th>\n",
       "    </tr>\n",
       "  </thead>\n",
       "  <tbody>\n",
       "    <tr>\n",
       "      <th>0</th>\n",
       "      <td>PPCPW</td>\n",
       "      <td>0.6166</td>\n",
       "      <td>-0.600</td>\n",
       "      <td>-0.5125</td>\n",
       "      <td>-0.8811</td>\n",
       "      <td>0.023640</td>\n",
       "      <td>2.363987</td>\n",
       "    </tr>\n",
       "    <tr>\n",
       "      <th>1</th>\n",
       "      <td>VVCTY</td>\n",
       "      <td>0.9193</td>\n",
       "      <td>-0.725</td>\n",
       "      <td>-0.6038</td>\n",
       "      <td>-0.5694</td>\n",
       "      <td>0.015041</td>\n",
       "      <td>1.504145</td>\n",
       "    </tr>\n",
       "    <tr>\n",
       "      <th>2</th>\n",
       "      <td>PECEVY</td>\n",
       "      <td>0.7508</td>\n",
       "      <td>-0.625</td>\n",
       "      <td>-0.5058</td>\n",
       "      <td>-0.8558</td>\n",
       "      <td>0.012808</td>\n",
       "      <td>1.280843</td>\n",
       "    </tr>\n",
       "    <tr>\n",
       "      <th>3</th>\n",
       "      <td>PCY</td>\n",
       "      <td>0.6448</td>\n",
       "      <td>-0.525</td>\n",
       "      <td>-0.5620</td>\n",
       "      <td>-0.8435</td>\n",
       "      <td>0.010344</td>\n",
       "      <td>1.034445</td>\n",
       "    </tr>\n",
       "    <tr>\n",
       "      <th>4</th>\n",
       "      <td>AVCY</td>\n",
       "      <td>0.9215</td>\n",
       "      <td>-0.725</td>\n",
       "      <td>-0.5380</td>\n",
       "      <td>-0.6580</td>\n",
       "      <td>0.010043</td>\n",
       "      <td>1.004287</td>\n",
       "    </tr>\n",
       "  </tbody>\n",
       "</table>\n",
       "</div>"
      ],
      "text/plain": [
       "  pepname     HIA    BBB  hepatotoxicity  nephrotoxicity     score   score.1\n",
       "0   PPCPW  0.6166 -0.600         -0.5125         -0.8811  0.023640  2.363987\n",
       "1   VVCTY  0.9193 -0.725         -0.6038         -0.5694  0.015041  1.504145\n",
       "2  PECEVY  0.7508 -0.625         -0.5058         -0.8558  0.012808  1.280843\n",
       "3     PCY  0.6448 -0.525         -0.5620         -0.8435  0.010344  1.034445\n",
       "4    AVCY  0.9215 -0.725         -0.5380         -0.6580  0.010043  1.004287"
      ]
     },
     "execution_count": 4,
     "metadata": {},
     "output_type": "execute_result"
    }
   ],
   "source": [
    "file = \"admetreport.csv\"\n",
    "data = pd.read_csv(file)\n",
    "data.head()"
   ]
  },
  {
   "cell_type": "code",
   "execution_count": 11,
   "id": "f74ce6f0",
   "metadata": {},
   "outputs": [],
   "source": [
    "peptides = list(data[\"pepname\"])"
   ]
  },
  {
   "cell_type": "markdown",
   "id": "9e2b54ae",
   "metadata": {},
   "source": [
    "### Loop:"
   ]
  },
  {
   "cell_type": "code",
   "execution_count": 36,
   "id": "9ed3f924",
   "metadata": {},
   "outputs": [],
   "source": [
    "#make save folder:\n",
    "State = os.path.exists(\"peptideSDF\")\n",
    "if State == False:\n",
    "    os.mkdir(\"peptideSDF\")\n",
    "wd = os.path.abspath(\".\").replace(\"\\\\\",\"\\\\\")+\"\\\\\"\n",
    "nwd = wd+\"peptideSDF\\\\\" \n",
    "#loop and save:\n",
    "for i in range(len(peptides)):\n",
    "    peptide = peptides.pop()\n",
    "    smi = convert_smi(peptide)\n",
    "    mol = smi2mol(smi)\n",
    "    mol,cids = ConformerGenerate(mol,peptide)\n",
    "    generateMol(peptide,mol,cids)\n",
    "    os.rename(wd+peptide+\".sdf\", nwd+peptide+\".sdf\")\n",
    "    del mol,cids"
   ]
  },
  {
   "cell_type": "markdown",
   "id": "b904fc86",
   "metadata": {},
   "source": [
    "### Merge all SDF:"
   ]
  },
  {
   "cell_type": "code",
   "execution_count": 28,
   "id": "e1ed5898",
   "metadata": {},
   "outputs": [],
   "source": [
    "wd = os.path.abspath(\"peptideSDF\").replace(\"\\\\\",\"\\\\\")+\"\\\\\"\n",
    "files = os.listdir(wd)\n",
    "with open(\"peptides.sdf\",\"w\") as wf:\n",
    "    for f in files:\n",
    "        if f[-3::] != \"sdf\":\n",
    "            continue\n",
    "        with open(wd+f,\"r\") as rf:\n",
    "            data = rf.read()\n",
    "            rf.close()\n",
    "        wf.write(f.replace(\".sdf\",\"\"))\n",
    "        wf.write(data)\n",
    "    wf.close()\n",
    "print(\"Now, a sdf files had been built, you can check it in a pymol software.\")"
   ]
  }
 ],
 "metadata": {
  "kernelspec": {
   "display_name": "pyqsar",
   "language": "python",
   "name": "pyqsar"
  },
  "language_info": {
   "codemirror_mode": {
    "name": "ipython",
    "version": 3
   },
   "file_extension": ".py",
   "mimetype": "text/x-python",
   "name": "python",
   "nbconvert_exporter": "python",
   "pygments_lexer": "ipython3",
   "version": "3.6.13"
  }
 },
 "nbformat": 4,
 "nbformat_minor": 5
}
