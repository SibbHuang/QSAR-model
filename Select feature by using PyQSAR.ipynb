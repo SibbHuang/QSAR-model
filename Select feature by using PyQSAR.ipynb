{
 "cells": [
  {
   "cell_type": "markdown",
   "id": "33382b9b",
   "metadata": {},
   "source": [
    "### Import package"
   ]
  },
  {
   "cell_type": "code",
   "execution_count": 1,
   "id": "e26f535a",
   "metadata": {},
   "outputs": [],
   "source": [
    "import pandas as pd\n",
    "import pyqsar\n",
    "from pyqsar import data_tools as dt  #widget for data\n",
    "from sklearn.preprocessing import MinMaxScaler #Standardisation of data\n",
    "from pyqsar import clustering as cl #Feature clustering for feature selection\n",
    "from pyqsar import fssml #feature selection code of modified version\n",
    "from pyqsar import export_model as em "
   ]
  },
  {
   "cell_type": "markdown",
   "id": "44fdecbd",
   "metadata": {},
   "source": [
    "### Import Data"
   ]
  },
  {
   "cell_type": "code",
   "execution_count": null,
   "id": "f1a5fee4",
   "metadata": {},
   "outputs": [],
   "source": [
    "data = pd.read_csv('../1-3Dmd.csv',sep=\",\")\n",
    "X_data = data.iloc[:,1:-2]\n",
    "y_data = data.iloc[:,-1:]"
   ]
  },
  {
   "cell_type": "code",
   "execution_count": null,
   "id": "df4279e3",
   "metadata": {},
   "outputs": [],
   "source": [
    "print(X_data.shape)\n",
    "print(y_data.shape)"
   ]
  },
  {
   "cell_type": "markdown",
   "id": "1ef61588",
   "metadata": {},
   "source": [
    "### Data Cleaning"
   ]
  },
  {
   "cell_type": "code",
   "execution_count": null,
   "id": "2b645773",
   "metadata": {},
   "outputs": [],
   "source": [
    "X_data = dt.rm_empty_feature(X_data)\n",
    "X_data = dt.rmNaN(X_data)\n",
    "\n",
    "#Standardisation of data:\n",
    "header = list(X_data.columns.values)\n",
    "scaler = MinMaxScaler()\n",
    "X_data_scaled = scaler.fit_transform(X_data)\n",
    "X_data = pd.DataFrame(X_data_scaled, columns=header)\n",
    "X_data.head()"
   ]
  },
  {
   "cell_type": "code",
   "execution_count": null,
   "id": "220780ba",
   "metadata": {},
   "outputs": [],
   "source": [
    "print(\"The shape of X data after treated is \",X_data.shape)"
   ]
  },
  {
   "cell_type": "markdown",
   "id": "e98fe443",
   "metadata": {},
   "source": [
    "### Cluster analysis"
   ]
  },
  {
   "cell_type": "code",
   "execution_count": null,
   "id": "58aa405e",
   "metadata": {},
   "outputs": [],
   "source": [
    "cl.cophenetic(X_data)"
   ]
  },
  {
   "cell_type": "code",
   "execution_count": null,
   "id": "a14fc7e4",
   "metadata": {},
   "outputs": [],
   "source": [
    "clust = cl.FeatureCluster(X_data, 'average', 3) #choose the highest score method\n",
    "clust_info = clust.set_cluster()"
   ]
  },
  {
   "cell_type": "code",
   "execution_count": null,
   "id": "2fa6b0a0",
   "metadata": {},
   "outputs": [],
   "source": [
    "clust.cluster_dist()"
   ]
  },
  {
   "cell_type": "markdown",
   "id": "c5d692ef",
   "metadata": {},
   "source": [
    "### Feature screening by using Machine learning"
   ]
  },
  {
   "cell_type": "code",
   "execution_count": null,
   "id": "563ec46e",
   "metadata": {},
   "outputs": [],
   "source": [
    "def exportfeature(feature_set,outputfilename):\n",
    "    mymodel = em.ModelExport(X_data,y_data, feature_set)\n",
    "    mymodel.to_csv(outputfilename+ +\"selection.csv\",sep=',',index=False,header=True)\n",
    "    return None"
   ]
  },
  {
   "cell_type": "markdown",
   "id": "4ea9525b",
   "metadata": {},
   "source": [
    "### Export Feature as csv"
   ]
  },
  {
   "cell_type": "code",
   "execution_count": null,
   "id": "d3a71cbf",
   "metadata": {},
   "outputs": [],
   "source": [
    "score_group = \"\"\n",
    "index_group = \"\"\n",
    "\n",
    "for f in range(1,41):\n",
    "    select = fssml.selection(X_data, y_data,\n",
    "                       clust_info,\n",
    "                       model='regression',\n",
    "                       learning=10000,\n",
    "                       bank=200,\n",
    "                       component=f)\n",
    "    \n",
    "    feature_set = select[0] #a list\n",
    "    score_group += str(select[0])+\",\" #a scored string\n",
    "    index_group += str(f)+\",\"\n",
    "    outputfilename='.\\\\f'+ str(f)\n",
    "    exportfeature(feature_set,outputfilename) #export feature's data as csv\n",
    "\n",
    "with open(\"score.csv\",\"w\") as f:\n",
    "    f.write(\"feature selection number:,\")\n",
    "    f.write(index_group)\n",
    "    f.write(\"\\n\")\n",
    "    \n",
    "    f.write(\"feature selection score:,\")\n",
    "    f.write(score_group)\n",
    "    f.close()"
   ]
  }
 ],
 "metadata": {
  "kernelspec": {
   "display_name": "pyqsar",
   "language": "python",
   "name": "pyqsar"
  },
  "language_info": {
   "codemirror_mode": {
    "name": "ipython",
    "version": 3
   },
   "file_extension": ".py",
   "mimetype": "text/x-python",
   "name": "python",
   "nbconvert_exporter": "python",
   "pygments_lexer": "ipython3",
   "version": "3.6.13"
  }
 },
 "nbformat": 4,
 "nbformat_minor": 5
}
